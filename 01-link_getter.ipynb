{
 "cells": [
  {
   "cell_type": "markdown",
   "metadata": {},
   "source": [
    "## 01 获取干员链接\n",
    "存为文件`01-Name-Link.csv`"
   ]
  },
  {
   "cell_type": "code",
   "execution_count": 1,
   "metadata": {},
   "outputs": [],
   "source": [
    "import requests\n",
    "from bs4 import BeautifulSoup\n",
    "import pandas as pd\n",
    "\n",
    "SKIP_LIST = [\"可露希尔\", \"博士\", \"魏彦吾\", \"文月\"]\n",
    "DATA_PATH = \"data/\"\n",
    "link_all_operator = \"https://prts.wiki/w/%E5%B9%B2%E5%91%98%E7%BC%96%E5%8F%B7%E4%B8%80%E8%A7%88\"\n",
    "\n",
    "r = requests.get(link_all_operator)\n",
    "r.encoding = \"utf-8\"\n",
    "html = r.text\n",
    "\n",
    "# 解析\n",
    "soup = BeautifulSoup(html, \"html.parser\")"
   ]
  },
  {
   "cell_type": "code",
   "execution_count": 2,
   "metadata": {},
   "outputs": [],
   "source": [
    "file_name_01 = \"01-Name-Link.csv\"\n",
    "prefix = \"https://prts.wiki\"\n",
    "\n",
    "# 寻找所有class=\"wikitable\"的table\n",
    "tables = []\n",
    "for item in soup.find_all(\"table\"):\n",
    "    if item.get(\"class\") == [\"wikitable\"]:\n",
    "        tables.append(item)\n",
    "\n",
    "# 寻找其中所有带有”herf“属性的标签，将该<a>标签的title记录进列表\n",
    "list_all_operator_name = [] # 干员名称\n",
    "list_all_operator_link = [] # 干员herf\n",
    "\n",
    "for table in tables:\n",
    "    # 定位到tbody\n",
    "    tbody = table.find(\"tbody\")\n",
    "    # 在tbody中遍历所有tr，记录：herf、干员名称\n",
    "    for tr in tbody.find_all(\"a\"):\n",
    "        name = tr.get(\"title\")\n",
    "        if name not in SKIP_LIST:\n",
    "            list_all_operator_name.append(name)\n",
    "            list_all_operator_link.append((prefix + tr.get(\"href\")))"
   ]
  },
  {
   "cell_type": "code",
   "execution_count": 3,
   "metadata": {},
   "outputs": [
    {
     "data": {
      "text/plain": [
       "(293, 293)"
      ]
     },
     "execution_count": 3,
     "metadata": {},
     "output_type": "execute_result"
    }
   ],
   "source": [
    "# 长度\n",
    "len(list_all_operator_name), len(list_all_operator_link)"
   ]
  },
  {
   "cell_type": "code",
   "execution_count": 4,
   "metadata": {},
   "outputs": [
    {
     "data": {
      "text/plain": [
       "('玫拉', 'https://prts.wiki/w/%E7%8E%AB%E6%8B%89')"
      ]
     },
     "execution_count": 4,
     "metadata": {},
     "output_type": "execute_result"
    }
   ],
   "source": [
    "# 抽样检测\n",
    "list_all_operator_name[111], list_all_operator_link[111]"
   ]
  },
  {
   "cell_type": "markdown",
   "metadata": {},
   "source": [
    "## 修正"
   ]
  },
  {
   "cell_type": "code",
   "execution_count": 5,
   "metadata": {},
   "outputs": [],
   "source": [
    "# 将name中的特定几个值按下面的字典替换\n",
    "dict_name = {\n",
    "    \"术髓\": \"Pith\",\n",
    "    \"触痕\": \"Touch\",\n",
    "    \"锋刃\": \"Sharp\",\n",
    "    \"风暴眼\": \"Stormeye\",\n",
    "    }\n",
    "\n",
    "for item in list_all_operator_name:\n",
    "    if item in dict_name.keys():\n",
    "        list_all_operator_name[list_all_operator_name.index(item)] = dict_name[item]"
   ]
  },
  {
   "cell_type": "code",
   "execution_count": 6,
   "metadata": {},
   "outputs": [
    {
     "data": {
      "text/plain": [
       "('阿米娅', 'https://prts.wiki/w/%E9%98%BF%E7%B1%B3%E5%A8%85')"
      ]
     },
     "execution_count": 6,
     "metadata": {},
     "output_type": "execute_result"
    }
   ],
   "source": [
    "list_all_operator_name[0], list_all_operator_link[0]"
   ]
  },
  {
   "cell_type": "code",
   "execution_count": 7,
   "metadata": {},
   "outputs": [],
   "source": [
    "lost_name = ['预备干员-术师', '预备干员-后勤', '预备干员-狙击', '预备干员-近战', '阿米娅(近卫)', '预备干员-重装']\n",
    "lost_link = [\"https://prts.wiki/w/\" + i for i in lost_name]\n",
    "\n",
    "# 将lost加入 list_all_operator_name 后面\n",
    "for i in range(len(lost_link)):\n",
    "    list_all_operator_name.append(lost_name[i])\n",
    "    list_all_operator_link.append(lost_link[i])"
   ]
  },
  {
   "cell_type": "code",
   "execution_count": 8,
   "metadata": {},
   "outputs": [],
   "source": [
    "# 储存\n",
    "df = pd.DataFrame({'name':list_all_operator_name, 'link':list_all_operator_link})\n",
    "df.to_csv(DATA_PATH + file_name_01, index=False)"
   ]
  }
 ],
 "metadata": {
  "kernelspec": {
   "display_name": "scrape",
   "language": "python",
   "name": "python3"
  },
  "language_info": {
   "codemirror_mode": {
    "name": "ipython",
    "version": 3
   },
   "file_extension": ".py",
   "mimetype": "text/x-python",
   "name": "python",
   "nbconvert_exporter": "python",
   "pygments_lexer": "ipython3",
   "version": "3.9.16"
  },
  "orig_nbformat": 4
 },
 "nbformat": 4,
 "nbformat_minor": 2
}
