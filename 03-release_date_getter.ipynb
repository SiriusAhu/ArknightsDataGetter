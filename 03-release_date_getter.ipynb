{
 "cells": [
  {
   "cell_type": "markdown",
   "metadata": {},
   "source": [
    "# 03 获取日期信息（还有稀有度）\n",
    "稀有度信息和日期信息在同一张表格中，容易收集"
   ]
  },
  {
   "cell_type": "code",
   "execution_count": 1,
   "metadata": {},
   "outputs": [
    {
     "name": "stdout",
     "output_type": "stream",
     "text": [
      "- You're loading a package from utils.\n"
     ]
    },
    {
     "data": {
      "text/html": [
       "<div>\n",
       "<style scoped>\n",
       "    .dataframe tbody tr th:only-of-type {\n",
       "        vertical-align: middle;\n",
       "    }\n",
       "\n",
       "    .dataframe tbody tr th {\n",
       "        vertical-align: top;\n",
       "    }\n",
       "\n",
       "    .dataframe thead th {\n",
       "        text-align: right;\n",
       "    }\n",
       "</style>\n",
       "<table border=\"1\" class=\"dataframe\">\n",
       "  <thead>\n",
       "    <tr style=\"text-align: right;\">\n",
       "      <th></th>\n",
       "      <th>干员名字</th>\n",
       "      <th>分支</th>\n",
       "      <th>描述</th>\n",
       "      <th>再部署时间</th>\n",
       "      <th>部署费用</th>\n",
       "      <th>阻挡数</th>\n",
       "      <th>攻击间隔</th>\n",
       "      <th>生命上限</th>\n",
       "      <th>攻击</th>\n",
       "      <th>防御</th>\n",
       "      <th>法术抗性</th>\n",
       "      <th>攻击范围</th>\n",
       "    </tr>\n",
       "  </thead>\n",
       "  <tbody>\n",
       "    <tr>\n",
       "      <th>0</th>\n",
       "      <td>重岳</td>\n",
       "      <td>重剑手</td>\n",
       "      <td>同时攻击阻挡的所有敌人</td>\n",
       "      <td>70s</td>\n",
       "      <td>19→21→23</td>\n",
       "      <td>2</td>\n",
       "      <td>2.5s</td>\n",
       "      <td>['2325', '3230', '4251', '5669', '350']</td>\n",
       "      <td>['642', '918', '1193', '1438', '70']</td>\n",
       "      <td>['0', '0', '0', '0', '0']</td>\n",
       "      <td>['0', '0', '0', '0', '0']</td>\n",
       "      <td>[2, 2, 2]</td>\n",
       "    </tr>\n",
       "    <tr>\n",
       "      <th>1</th>\n",
       "      <td>闪击</td>\n",
       "      <td>吟游者</td>\n",
       "      <td>不攻击，持续恢复范围内所有友军生命（每秒相当于自身攻击力10%的生命），自身不受鼓舞术语: ...</td>\n",
       "      <td>70s</td>\n",
       "      <td>6→8</td>\n",
       "      <td>1</td>\n",
       "      <td>1.3s</td>\n",
       "      <td>['613', '877', '1202', '1603', '0']</td>\n",
       "      <td>['145', '228', '305', '368', '50']</td>\n",
       "      <td>['93', '139', '186', '233', '30']</td>\n",
       "      <td>['0', '0', '0', '0', '0']</td>\n",
       "      <td>[9, 13, 13]</td>\n",
       "    </tr>\n",
       "  </tbody>\n",
       "</table>\n",
       "</div>"
      ],
      "text/plain": [
       "  干员名字   分支                                                 描述 再部署时间  \\\n",
       "0   重岳  重剑手                                        同时攻击阻挡的所有敌人   70s   \n",
       "1   闪击  吟游者  不攻击，持续恢复范围内所有友军生命（每秒相当于自身攻击力10%的生命），自身不受鼓舞术语: ...   70s   \n",
       "\n",
       "       部署费用 阻挡数  攻击间隔                                     生命上限  \\\n",
       "0  19→21→23   2  2.5s  ['2325', '3230', '4251', '5669', '350']   \n",
       "1       6→8   1  1.3s      ['613', '877', '1202', '1603', '0']   \n",
       "\n",
       "                                     攻击                                 防御  \\\n",
       "0  ['642', '918', '1193', '1438', '70']          ['0', '0', '0', '0', '0']   \n",
       "1    ['145', '228', '305', '368', '50']  ['93', '139', '186', '233', '30']   \n",
       "\n",
       "                        法术抗性         攻击范围  \n",
       "0  ['0', '0', '0', '0', '0']    [2, 2, 2]  \n",
       "1  ['0', '0', '0', '0', '0']  [9, 13, 13]  "
      ]
     },
     "execution_count": 1,
     "metadata": {},
     "output_type": "execute_result"
    }
   ],
   "source": [
    "import pandas as pd\n",
    "from utils.get_date import get_date_info\n",
    "from utils.tools import change_column\n",
    "\n",
    "DATA = \"data/02-Info.csv\"\n",
    "DATA_PATH = \"data/03-Date-Rarity.csv\"\n",
    "   \n",
    "# 读取数据\n",
    "info = pd.read_csv(DATA, encoding=\"utf-8\")\n",
    "info.head(2)"
   ]
  },
  {
   "cell_type": "code",
   "execution_count": 2,
   "metadata": {},
   "outputs": [],
   "source": [
    "date_info = get_date_info(\"https://prts.wiki/w/%E5%B9%B2%E5%91%98%E4%B8%8A%E7%BA%BF%E6%97%B6%E9%97%B4%E4%B8%80%E8%A7%88\")"
   ]
  },
  {
   "cell_type": "code",
   "execution_count": 3,
   "metadata": {},
   "outputs": [
    {
     "data": {
      "text/html": [
       "<div>\n",
       "<style scoped>\n",
       "    .dataframe tbody tr th:only-of-type {\n",
       "        vertical-align: middle;\n",
       "    }\n",
       "\n",
       "    .dataframe tbody tr th {\n",
       "        vertical-align: top;\n",
       "    }\n",
       "\n",
       "    .dataframe thead th {\n",
       "        text-align: right;\n",
       "    }\n",
       "</style>\n",
       "<table border=\"1\" class=\"dataframe\">\n",
       "  <thead>\n",
       "    <tr style=\"text-align: right;\">\n",
       "      <th></th>\n",
       "      <th>name</th>\n",
       "      <th>稀有度</th>\n",
       "      <th>上线时间（国服）</th>\n",
       "    </tr>\n",
       "  </thead>\n",
       "  <tbody>\n",
       "    <tr>\n",
       "      <th>0</th>\n",
       "      <td>Lancet-2</td>\n",
       "      <td>1</td>\n",
       "      <td>2019年4月30日 10:00</td>\n",
       "    </tr>\n",
       "    <tr>\n",
       "      <th>1</th>\n",
       "      <td>Castle-3</td>\n",
       "      <td>1</td>\n",
       "      <td>2019年4月30日 10:00</td>\n",
       "    </tr>\n",
       "  </tbody>\n",
       "</table>\n",
       "</div>"
      ],
      "text/plain": [
       "       name 稀有度          上线时间（国服）\n",
       "0  Lancet-2   1  2019年4月30日 10:00\n",
       "1  Castle-3   1  2019年4月30日 10:00"
      ]
     },
     "execution_count": 3,
     "metadata": {},
     "output_type": "execute_result"
    }
   ],
   "source": [
    "date_info.head(2)"
   ]
  },
  {
   "cell_type": "code",
   "execution_count": 4,
   "metadata": {},
   "outputs": [],
   "source": [
    "# save\n",
    "date_info.to_csv(DATA_PATH, index=False)"
   ]
  },
  {
   "cell_type": "code",
   "execution_count": 8,
   "metadata": {},
   "outputs": [
    {
     "data": {
      "text/html": [
       "<div>\n",
       "<style scoped>\n",
       "    .dataframe tbody tr th:only-of-type {\n",
       "        vertical-align: middle;\n",
       "    }\n",
       "\n",
       "    .dataframe tbody tr th {\n",
       "        vertical-align: top;\n",
       "    }\n",
       "\n",
       "    .dataframe thead th {\n",
       "        text-align: right;\n",
       "    }\n",
       "</style>\n",
       "<table border=\"1\" class=\"dataframe\">\n",
       "  <thead>\n",
       "    <tr style=\"text-align: right;\">\n",
       "      <th></th>\n",
       "      <th>干员名字</th>\n",
       "      <th>分支</th>\n",
       "      <th>描述</th>\n",
       "      <th>再部署时间</th>\n",
       "      <th>部署费用</th>\n",
       "      <th>阻挡数</th>\n",
       "      <th>攻击间隔</th>\n",
       "      <th>生命上限</th>\n",
       "      <th>攻击</th>\n",
       "      <th>防御</th>\n",
       "      <th>法术抗性</th>\n",
       "      <th>攻击范围</th>\n",
       "      <th>稀有度</th>\n",
       "      <th>上线时间（国服）</th>\n",
       "    </tr>\n",
       "  </thead>\n",
       "  <tbody>\n",
       "    <tr>\n",
       "      <th>0</th>\n",
       "      <td>重岳</td>\n",
       "      <td>重剑手</td>\n",
       "      <td>同时攻击阻挡的所有敌人</td>\n",
       "      <td>70s</td>\n",
       "      <td>19→21→23</td>\n",
       "      <td>2</td>\n",
       "      <td>2.5s</td>\n",
       "      <td>['2325', '3230', '4251', '5669', '350']</td>\n",
       "      <td>['642', '918', '1193', '1438', '70']</td>\n",
       "      <td>['0', '0', '0', '0', '0']</td>\n",
       "      <td>['0', '0', '0', '0', '0']</td>\n",
       "      <td>[2, 2, 2]</td>\n",
       "      <td>1</td>\n",
       "      <td>2019年4月30日 10:00</td>\n",
       "    </tr>\n",
       "    <tr>\n",
       "      <th>1</th>\n",
       "      <td>闪击</td>\n",
       "      <td>吟游者</td>\n",
       "      <td>不攻击，持续恢复范围内所有友军生命（每秒相当于自身攻击力10%的生命），自身不受鼓舞术语: ...</td>\n",
       "      <td>70s</td>\n",
       "      <td>6→8</td>\n",
       "      <td>1</td>\n",
       "      <td>1.3s</td>\n",
       "      <td>['613', '877', '1202', '1603', '0']</td>\n",
       "      <td>['145', '228', '305', '368', '50']</td>\n",
       "      <td>['93', '139', '186', '233', '30']</td>\n",
       "      <td>['0', '0', '0', '0', '0']</td>\n",
       "      <td>[9, 13, 13]</td>\n",
       "      <td>1</td>\n",
       "      <td>2019年4月30日 10:00</td>\n",
       "    </tr>\n",
       "  </tbody>\n",
       "</table>\n",
       "</div>"
      ],
      "text/plain": [
       "  干员名字   分支                                                 描述 再部署时间  \\\n",
       "0   重岳  重剑手                                        同时攻击阻挡的所有敌人   70s   \n",
       "1   闪击  吟游者  不攻击，持续恢复范围内所有友军生命（每秒相当于自身攻击力10%的生命），自身不受鼓舞术语: ...   70s   \n",
       "\n",
       "       部署费用 阻挡数  攻击间隔                                     生命上限  \\\n",
       "0  19→21→23   2  2.5s  ['2325', '3230', '4251', '5669', '350']   \n",
       "1       6→8   1  1.3s      ['613', '877', '1202', '1603', '0']   \n",
       "\n",
       "                                     攻击                                 防御  \\\n",
       "0  ['642', '918', '1193', '1438', '70']          ['0', '0', '0', '0', '0']   \n",
       "1    ['145', '228', '305', '368', '50']  ['93', '139', '186', '233', '30']   \n",
       "\n",
       "                        法术抗性         攻击范围 稀有度          上线时间（国服）  \n",
       "0  ['0', '0', '0', '0', '0']    [2, 2, 2]   1  2019年4月30日 10:00  \n",
       "1  ['0', '0', '0', '0', '0']  [9, 13, 13]   1  2019年4月30日 10:00  "
      ]
     },
     "execution_count": 8,
     "metadata": {},
     "output_type": "execute_result"
    }
   ],
   "source": [
    "# 将date_info的后两列添加到info中\n",
    "info_ = pd.concat([info, date_info.iloc[:, 1:]], axis=1)\n",
    "info_.head(2)"
   ]
  },
  {
   "cell_type": "code",
   "execution_count": 10,
   "metadata": {},
   "outputs": [],
   "source": [
    "# 整理数据\n",
    "info_ = change_column(info_, \"稀有度\", 1)\n",
    "\n",
    "info_.to_csv(\"data/03-sorted.csv\", index=False)"
   ]
  }
 ],
 "metadata": {
  "kernelspec": {
   "display_name": "scrape",
   "language": "python",
   "name": "python3"
  },
  "language_info": {
   "codemirror_mode": {
    "name": "ipython",
    "version": 3
   },
   "file_extension": ".py",
   "mimetype": "text/x-python",
   "name": "python",
   "nbconvert_exporter": "python",
   "pygments_lexer": "ipython3",
   "version": "3.9.16"
  },
  "orig_nbformat": 4
 },
 "nbformat": 4,
 "nbformat_minor": 2
}
