{
 "cells": [
  {
   "cell_type": "code",
   "execution_count": 1,
   "metadata": {},
   "outputs": [],
   "source": [
    "import pandas as pd\n",
    "\n",
    "DATA1 = \"data/02-Info.csv\"\n",
    "DATA2 = \"data/03-Date-Rarity.csv\"\n",
    "\n",
    "data1 = pd.read_csv(DATA1)\n",
    "data2 = pd.read_csv(DATA2)"
   ]
  },
  {
   "cell_type": "code",
   "execution_count": 3,
   "metadata": {},
   "outputs": [],
   "source": [
    "# # data1和data2中都有“name”列，找出data1中“name”列中的值在data2中没有的值。\n",
    "# lost = []\n",
    "# for i in range(len(data2)):\n",
    "#     if data2.iloc[i][\"name\"] not in data1[\"name\"].values:\n",
    "#         lost.append(data2.iloc[i][\"name\"])\n",
    "# print(lost)"
   ]
  },
  {
   "cell_type": "code",
   "execution_count": 4,
   "metadata": {},
   "outputs": [
    {
     "name": "stdout",
     "output_type": "stream",
     "text": [
      "(300, 12)\n",
      "(300, 3)\n"
     ]
    }
   ],
   "source": [
    "# 查看data1和data2的行数\n",
    "print(data1.shape)\n",
    "print(data2.shape)"
   ]
  }
 ],
 "metadata": {
  "kernelspec": {
   "display_name": "scrape",
   "language": "python",
   "name": "python3"
  },
  "language_info": {
   "codemirror_mode": {
    "name": "ipython",
    "version": 3
   },
   "file_extension": ".py",
   "mimetype": "text/x-python",
   "name": "python",
   "nbconvert_exporter": "python",
   "pygments_lexer": "ipython3",
   "version": "3.9.16"
  },
  "orig_nbformat": 4
 },
 "nbformat": 4,
 "nbformat_minor": 2
}
